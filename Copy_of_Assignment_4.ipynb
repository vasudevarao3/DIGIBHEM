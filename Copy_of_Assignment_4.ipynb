{
  "nbformat": 4,
  "nbformat_minor": 0,
  "metadata": {
    "colab": {
      "provenance": [],
      "gpuType": "V28",
      "include_colab_link": true
    },
    "kernelspec": {
      "name": "python3",
      "display_name": "Python 3"
    },
    "language_info": {
      "name": "python"
    },
    "accelerator": "TPU"
  },
  "cells": [
    {
      "cell_type": "markdown",
      "metadata": {
        "id": "view-in-github",
        "colab_type": "text"
      },
      "source": [
        "<a href=\"https://colab.research.google.com/github/vasudevarao3/DIGIBHEM/blob/main/Copy_of_Assignment_4.ipynb\" target=\"_parent\"><img src=\"https://colab.research.google.com/assets/colab-badge.svg\" alt=\"Open In Colab\"/></a>"
      ]
    },
    {
      "cell_type": "code",
      "execution_count": null,
      "metadata": {
        "id": "Noc9PHAoGiOc"
      },
      "outputs": [],
      "source": [
        "# import warnings\n",
        "# warnings.filterwarnings(\"ignore\")"
      ]
    },
    {
      "cell_type": "code",
      "source": [
        "!pip install yfinance"
      ],
      "metadata": {
        "id": "doJK66HgGuoN"
      },
      "execution_count": null,
      "outputs": []
    },
    {
      "cell_type": "code",
      "source": [
        "!pip install pandas_market_calendars"
      ],
      "metadata": {
        "id": "Us3MVNPNItV_"
      },
      "execution_count": null,
      "outputs": []
    },
    {
      "cell_type": "code",
      "source": [
        "!pip install scikeras"
      ],
      "metadata": {
        "id": "GoH5ZuOt8LfT"
      },
      "execution_count": null,
      "outputs": []
    },
    {
      "cell_type": "code",
      "source": [
        "!pip install --upgrade fastapi pydantic"
      ],
      "metadata": {
        "id": "6U7kPOTp-fdh"
      },
      "execution_count": null,
      "outputs": []
    },
    {
      "cell_type": "code",
      "source": [
        "import yfinance as yf\n",
        "import pandas as pd\n",
        "import numpy as np\n",
        "import datetime as datetime\n",
        "import pandas_market_calendars as pmcal\n",
        "import matplotlib.pyplot as plt\n",
        "\n",
        "from sklearn.preprocessing import MinMaxScaler\n",
        "from sklearn.metrics import mean_absolute_error, root_mean_squared_error, r2_score\n",
        "from sklearn.model_selection import GridSearchCV, RandomizedSearchCV\n",
        "\n",
        "from tensorflow.keras.models import Sequential\n",
        "from tensorflow.keras.layers import LSTM, GRU, Dense, Attention, Input\n",
        "from tensorflow.keras.models import Model\n",
        "from scikeras.wrappers import KerasRegressor"
      ],
      "metadata": {
        "id": "IBurbRtmHFcd"
      },
      "execution_count": null,
      "outputs": []
    },
    {
      "cell_type": "code",
      "source": [
        "# ticker = input(\"Enter the strock symbol:\")\n",
        "stock_ticker = yf.Ticker(\"SBUX\")\n",
        "start_date = datetime.date(2018,1,1)\n",
        "end_date = datetime.date.today()\n",
        "data = stock_ticker.history(start = start_date, end = end_date)\n",
        "data"
      ],
      "metadata": {
        "id": "7awQR0WWGzDk"
      },
      "execution_count": null,
      "outputs": []
    },
    {
      "cell_type": "code",
      "source": [
        "data.index = data.index.date"
      ],
      "metadata": {
        "id": "WPq7E8zvHcA0"
      },
      "execution_count": null,
      "outputs": []
    },
    {
      "cell_type": "code",
      "source": [
        "data = data.reset_index(drop = False)\n",
        "data.rename(columns={'index': 'Dates'}, inplace=True)  # Optional: rename column to \"row_index\"\n",
        "type(pd.to_datetime(data[\"Dates\"]))\n",
        "data"
      ],
      "metadata": {
        "id": "yp1sl8S-Tsay"
      },
      "execution_count": null,
      "outputs": []
    },
    {
      "cell_type": "code",
      "source": [
        "data[\"Dates\"] = pd.to_datetime(data[\"Dates\"])\n",
        "data.set_index(data[\"Dates\"], inplace = True)  # Set the copied column as the index\n",
        "data"
      ],
      "metadata": {
        "id": "MG_y8tyOTldq"
      },
      "execution_count": null,
      "outputs": []
    },
    {
      "cell_type": "code",
      "source": [
        "data.head()"
      ],
      "metadata": {
        "id": "Ws83SlQOHtUg"
      },
      "execution_count": null,
      "outputs": []
    },
    {
      "cell_type": "markdown",
      "source": [
        "#Task - 1"
      ],
      "metadata": {
        "id": "BLx1iWG2H3hm"
      }
    },
    {
      "cell_type": "code",
      "source": [
        "data[\"Close\"]"
      ],
      "metadata": {
        "id": "swccHc2vLgEq"
      },
      "execution_count": null,
      "outputs": []
    },
    {
      "cell_type": "code",
      "source": [
        "scaler = MinMaxScaler(feature_range = (0,1))\n",
        "data[\"Scaled_close\"] = scaler.fit_transform(pd.DataFrame(data[\"Close\"]))\n",
        "data"
      ],
      "metadata": {
        "id": "0TTrOPqaLR2T"
      },
      "execution_count": null,
      "outputs": []
    },
    {
      "cell_type": "code",
      "source": [
        "train_start_date = datetime.date(2018, 1, 1)\n",
        "train_end_date = datetime.date(2022, 12, 31)\n",
        "print(type(train_start_date))\n",
        "\n",
        "main_train_data = data.loc[train_start_date:train_end_date]\n",
        "print(main_train_data.shape)\n",
        "main_train_data"
      ],
      "metadata": {
        "id": "El4b0vehH6Ek"
      },
      "execution_count": null,
      "outputs": []
    },
    {
      "cell_type": "code",
      "source": [
        "test_start_date = datetime.date(2023, 1, 1)\n",
        "test_end_date = datetime.date(2023, 12, 31)\n",
        "\n",
        "main_test_data = data.loc[test_start_date:test_end_date]\n",
        "print(main_test_data.shape)\n",
        "main_test_data"
      ],
      "metadata": {
        "id": "3FAejdnLIAzY"
      },
      "execution_count": null,
      "outputs": []
    },
    {
      "cell_type": "code",
      "source": [
        "nse = pmcal.get_calendar('NSE')\n",
        "\n",
        "forecast_start_date = datetime.date(2024, 1, 1)\n",
        "forecast_end_date = datetime.date(2024, 12, 31)\n",
        "forecast_dates = nse.schedule(start_date= forecast_start_date, end_date = forecast_end_date)\n",
        "print(forecast_dates)\n",
        "forecast_dates = forecast_dates.index\n",
        "forecast_dates"
      ],
      "metadata": {
        "id": "e-jgXun6IjYX"
      },
      "execution_count": null,
      "outputs": []
    },
    {
      "cell_type": "markdown",
      "source": [
        "#Task - 2"
      ],
      "metadata": {
        "id": "fOFdc-O9aCBe"
      }
    },
    {
      "cell_type": "code",
      "source": [
        "eval = {}\n",
        "def evaluate_models(model, name, X_train, y_train, X_test, y_test):\n",
        "  if(name not in eval.keys()):\n",
        "    eval[name] = {}\n",
        "    eval[name][\"Mean Absolute Error\"] ={}\n",
        "    eval[name][\"Mean Absolute Error\"][\"train data\"] = 0\n",
        "    eval[name][\"Mean Absolute Error\"][\"test data\"] = 0\n",
        "    eval[name][\"Root Mean Squared Error\"] ={}\n",
        "    eval[name][\"Root Mean Squared Error\"][\"train data\"] = 0\n",
        "    eval[name][\"Root Mean Squared Error\"][\"test data\"] = 0\n",
        "    eval[name][\"R-Squared Score\"] ={}\n",
        "    eval[name][\"R-Squared Score\"][\"train data\"] = 0\n",
        "    eval[name][\"R-Squared Score\"][\"test data\"] = 0\n",
        "\n",
        "  print(\"=\"*25, name, \"=\"*25)\n",
        "  train_pred = model.predict(X_train)\n",
        "  test_pred = model.predict(X_test)\n",
        "\n",
        "  if(name == \"Hybrid Model\" or  name == \"Attention Model\"):\n",
        "    train_pred = train_pred[:, -1, 0]\n",
        "    test_pred = test_pred[:, -1, 0]\n",
        "\n",
        "  print(train_pred.shape, y_train.shape, X_train.shape)\n",
        "  print(test_pred.shape, y_test.shape, X_test.shape)\n",
        "\n",
        "  y_train = scaler.inverse_transform(y_train.reshape(-1, 1))\n",
        "  train_pred = scaler.inverse_transform(train_pred.reshape(-1, 1))\n",
        "  y_test = scaler.inverse_transform(y_test.reshape(-1, 1))\n",
        "  test_pred = scaler.inverse_transform(test_pred.reshape(-1, 1))\n",
        "\n",
        "  #Mean Absolute Error\n",
        "  train_mae = mean_absolute_error(train_pred, y_train)\n",
        "  test_mae = mean_absolute_error(test_pred, y_test)\n",
        "  print(\"Mean Absolute Errors is :\\n \\t\\t trained data: \",train_mae,\"\\n \\t\\t test data: \", test_mae)\n",
        "  eval[name][\"Mean Absolute Error\"][\"train data\"] = train_mae\n",
        "  eval[name][\"Mean Absolute Error\"][\"test data\"] = test_mae\n",
        "  print(\"-\"*50)\n",
        "\n",
        "  #Root Mean Square Error\n",
        "  train_rmse = root_mean_squared_error(train_pred, y_train)\n",
        "  test_rmse = root_mean_squared_error(test_pred, y_test)\n",
        "  print(\"Root Mean squared Error is :\\n \\t\\t trained data: \",train_rmse,\"\\n \\t\\t test data: \", test_rmse)\n",
        "  eval[name][\"Root Mean Squared Error\"][\"train data\"] = train_rmse\n",
        "  eval[name][\"Root Mean Squared Error\"][\"test data\"] = test_rmse\n",
        "  print(\"-\"*50)\n",
        "\n",
        "  #R-Squared Error\n",
        "  train_rs = r2_score(train_pred, y_train)\n",
        "  test_rs = r2_score(test_pred, y_test)\n",
        "  print(\"R-Squared score is :\\n \\t\\t trained data: \",train_rs,\"\\n \\t\\t test data: \", test_rs)\n",
        "  eval[name][\"R-Squared Score\"][\"train data\"] = train_rs\n",
        "  eval[name][\"R-Squared Score\"][\"test data\"] = test_rs\n",
        "\n",
        "  # plotting(model, name, X_train, y_train, X_test, y_test, train_pred, test_pred)\n",
        "  plt.figure(figsize = (20,5))\n",
        "  plt.plot(main_train_data.index[no_of_days_to_analyse:], y_train, color = \"red\", label = \"Actual\")\n",
        "  plt.plot(main_train_data.index[no_of_days_to_analyse:], train_pred, color = \"blue\", label = \"Predicted\")\n",
        "  plt.title(\"Train Data v/s Predicted Train data\")\n",
        "  plt.legend()\n",
        "  plt.show()\n",
        "\n",
        "  print()\n",
        "  plt.figure(figsize = (20,5))\n",
        "  plt.plot(main_test_data.index[no_of_days_to_analyse:], y_test, color = \"orange\", label = \"Actual\")\n",
        "  plt.plot(main_test_data.index[no_of_days_to_analyse:], test_pred, color = \"yellow\", label = \"Predicted\")\n",
        "  plt.title(\"Test Data v/s Predicted Test data\")\n",
        "  plt.legend()\n",
        "\n"
      ],
      "metadata": {
        "id": "kHH4WPcAaJQd"
      },
      "execution_count": null,
      "outputs": []
    },
    {
      "cell_type": "code",
      "source": [
        "#Creating dataset with definite number of columns with closing price to predict next day closing price\n",
        "\n",
        "# no_of_days_to_analyse = int(input(\"Enter number of days to analyse:\"))\n",
        "no_of_days_to_analyse = 60\n",
        "def create_dataset(data, day_step):\n",
        "    X = []\n",
        "    y = []\n",
        "    for i in range(day_step, len(data)):\n",
        "        X.append(data[i - day_step:i])\n",
        "        y.append(data[i])\n",
        "    return np.array(X), np.array(y)"
      ],
      "metadata": {
        "id": "6Hi-tNiFPUUe"
      },
      "execution_count": null,
      "outputs": []
    },
    {
      "cell_type": "code",
      "source": [
        "X_train_data, Y_train_data = create_dataset(main_train_data[\"Scaled_close\"], no_of_days_to_analyse)\n",
        "X_test_data, Y_test_data = create_dataset(main_test_data[\"Scaled_close\"], no_of_days_to_analyse)"
      ],
      "metadata": {
        "id": "LRokVUoAJKQ3"
      },
      "execution_count": null,
      "outputs": []
    },
    {
      "cell_type": "code",
      "source": [
        "pd.DataFrame(X_train_data)"
      ],
      "metadata": {
        "id": "mIz4nb__M6wT"
      },
      "execution_count": null,
      "outputs": []
    },
    {
      "cell_type": "code",
      "source": [
        "pd.DataFrame(Y_train_data)"
      ],
      "metadata": {
        "id": "pnDrqshgPCse"
      },
      "execution_count": null,
      "outputs": []
    },
    {
      "cell_type": "code",
      "source": [
        "main_train_data.index[no_of_days_to_analyse:]"
      ],
      "metadata": {
        "id": "f8-6IgiKT7hM"
      },
      "execution_count": null,
      "outputs": []
    },
    {
      "cell_type": "code",
      "source": [
        "pd.DataFrame(X_test_data)"
      ],
      "metadata": {
        "id": "7fIXz_SoV_fB"
      },
      "execution_count": null,
      "outputs": []
    },
    {
      "cell_type": "code",
      "source": [
        "pd.DataFrame(Y_test_data)"
      ],
      "metadata": {
        "id": "_8VY7OWUWT_R"
      },
      "execution_count": null,
      "outputs": []
    },
    {
      "cell_type": "code",
      "source": [
        "main_test_data.index[no_of_days_to_analyse:]"
      ],
      "metadata": {
        "id": "Rf0O-y2BWY2B"
      },
      "execution_count": null,
      "outputs": []
    },
    {
      "cell_type": "code",
      "source": [
        "X_train_data.shape"
      ],
      "metadata": {
        "id": "h7BqMkemUof7"
      },
      "execution_count": null,
      "outputs": []
    },
    {
      "cell_type": "code",
      "source": [
        "Y_train_data.shape"
      ],
      "metadata": {
        "id": "9NN-P8uXUuQN"
      },
      "execution_count": null,
      "outputs": []
    },
    {
      "cell_type": "code",
      "source": [
        "X_test_data.shape"
      ],
      "metadata": {
        "id": "GIp3SSgZUwgV"
      },
      "execution_count": null,
      "outputs": []
    },
    {
      "cell_type": "code",
      "source": [
        "Y_test_data.shape"
      ],
      "metadata": {
        "id": "f7N77nFSUy8b"
      },
      "execution_count": null,
      "outputs": []
    },
    {
      "cell_type": "code",
      "source": [
        "X_train_data = X_train_data.reshape(X_train_data.shape[0], X_train_data.shape[1], 1)\n",
        "X_test_data = X_test_data.reshape(X_test_data.shape[0], X_test_data.shape[1], 1)"
      ],
      "metadata": {
        "id": "2w61rFg_Wo_S"
      },
      "execution_count": null,
      "outputs": []
    },
    {
      "cell_type": "code",
      "source": [
        "X_test_data.shape"
      ],
      "metadata": {
        "id": "RraSprflSm4T"
      },
      "execution_count": null,
      "outputs": []
    },
    {
      "cell_type": "code",
      "source": [
        "Y_test_data.shape"
      ],
      "metadata": {
        "id": "gnAuGoLASstn"
      },
      "execution_count": null,
      "outputs": []
    },
    {
      "cell_type": "code",
      "source": [
        "X_train_data.shape"
      ],
      "metadata": {
        "id": "E7Bn8OSuX56e"
      },
      "execution_count": null,
      "outputs": []
    },
    {
      "cell_type": "markdown",
      "source": [
        "###LSTM"
      ],
      "metadata": {
        "id": "7sX4aS2ffLAK"
      }
    },
    {
      "cell_type": "code",
      "source": [
        "lstm_model = Sequential()\n",
        "lstm_model.add(LSTM(units = 50, return_sequences = True, input_shape = (X_train_data.shape[1], 1)))\n",
        "lstm_model.add(LSTM(units = 50, return_sequences = True))\n",
        "lstm_model.add(LSTM(units = 1))"
      ],
      "metadata": {
        "id": "_w4PKt27Xqfy"
      },
      "execution_count": null,
      "outputs": []
    },
    {
      "cell_type": "code",
      "source": [
        "lstm_model.compile(loss = \"mean_squared_error\", optimizer = \"adam\")"
      ],
      "metadata": {
        "id": "JG75QpcgYEPe"
      },
      "execution_count": null,
      "outputs": []
    },
    {
      "cell_type": "code",
      "source": [
        "lstm_model.summary()"
      ],
      "metadata": {
        "id": "wpbdatXnYQBR"
      },
      "execution_count": null,
      "outputs": []
    },
    {
      "cell_type": "code",
      "source": [
        "lstm_model.fit(X_train_data, Y_train_data, validation_data = (X_test_data, Y_test_data), epochs = 60, batch_size = 50, verbose = 1)"
      ],
      "metadata": {
        "id": "jAV_2oeDY92z"
      },
      "execution_count": null,
      "outputs": []
    },
    {
      "cell_type": "code",
      "source": [
        "#LSTM\n",
        "evaluate_models(lstm_model, \"LSTM(Long Short Term Memory)\", X_train_data, Y_train_data, X_test_data, Y_test_data)"
      ],
      "metadata": {
        "id": "4FXpgpzNXnJK"
      },
      "execution_count": null,
      "outputs": []
    },
    {
      "cell_type": "markdown",
      "source": [
        "###GRU"
      ],
      "metadata": {
        "id": "pf8QBVJBfP14"
      }
    },
    {
      "cell_type": "code",
      "source": [
        "gru_model = Sequential()\n",
        "gru_model.add(GRU(units = 50, return_sequences = True, input_shape = (X_train_data.shape[1], 1)))\n",
        "gru_model.add(GRU(units = 50, return_sequences = True))\n",
        "gru_model.add(GRU(units = 1))"
      ],
      "metadata": {
        "id": "2Xo98g9HhlGm"
      },
      "execution_count": null,
      "outputs": []
    },
    {
      "cell_type": "code",
      "source": [
        "gru_model.compile(loss = \"mean_squared_error\", optimizer = \"adam\")"
      ],
      "metadata": {
        "id": "0cMpYXbthuLw"
      },
      "execution_count": null,
      "outputs": []
    },
    {
      "cell_type": "code",
      "source": [
        "gru_model.summary()"
      ],
      "metadata": {
        "id": "yN6drULbh9-k"
      },
      "execution_count": null,
      "outputs": []
    },
    {
      "cell_type": "code",
      "source": [
        "gru_model.fit(X_train_data, Y_train_data, validation_data = (X_test_data, Y_test_data), epochs = 60, batch_size = 50, verbose = 1)"
      ],
      "metadata": {
        "id": "jgRyNGOoiOoR"
      },
      "execution_count": null,
      "outputs": []
    },
    {
      "cell_type": "code",
      "source": [
        "evaluate_models(gru_model, \"GRU(Gated Recurrent Unit)\", X_train_data, Y_train_data, X_test_data, Y_test_data)"
      ],
      "metadata": {
        "id": "e9SdjZ0bi8FC"
      },
      "execution_count": null,
      "outputs": []
    },
    {
      "cell_type": "markdown",
      "source": [
        "###Hybrid Model(LSTM + Dense Layer)"
      ],
      "metadata": {
        "id": "MlplGra_jCcE"
      }
    },
    {
      "cell_type": "code",
      "source": [
        "X_train_data.shape"
      ],
      "metadata": {
        "id": "7wUaQGhy0vaR"
      },
      "execution_count": null,
      "outputs": []
    },
    {
      "cell_type": "code",
      "source": [
        "hybrid_model = Sequential()\n",
        "hybrid_model.add(LSTM(units = 50, return_sequences = True, input_shape = (X_train_data.shape[1], 1)))\n",
        "hybrid_model.add(LSTM(units = 50, return_sequences = True))\n",
        "hybrid_model.add(LSTM(units = 50, return_sequences = True))\n",
        "\n",
        "hybrid_model.add(Dense(units=25, activation='relu'))\n",
        "hybrid_model.add(Dense(units=10, activation='relu'))\n",
        "hybrid_model.add(Dense(units=1))"
      ],
      "metadata": {
        "id": "TIlsO0P-jCGM"
      },
      "execution_count": null,
      "outputs": []
    },
    {
      "cell_type": "code",
      "source": [
        "hybrid_model.compile(loss = \"mean_squared_error\", optimizer = \"adam\")"
      ],
      "metadata": {
        "id": "S4jhadGIk4Fa"
      },
      "execution_count": null,
      "outputs": []
    },
    {
      "cell_type": "code",
      "source": [
        "hybrid_model.summary()"
      ],
      "metadata": {
        "id": "cfRJWP67lgJ0"
      },
      "execution_count": null,
      "outputs": []
    },
    {
      "cell_type": "code",
      "source": [
        "hybrid_model.fit(X_train_data, Y_train_data, validation_data = (X_test_data, Y_test_data), epochs = 60, batch_size = 50, verbose = 1)"
      ],
      "metadata": {
        "id": "sfakoimElnwh"
      },
      "execution_count": null,
      "outputs": []
    },
    {
      "cell_type": "code",
      "source": [
        "print(X_train_data.shape, X_test_data.shape, Y_train_data.shape, Y_test_data.shape)"
      ],
      "metadata": {
        "id": "UH7nPCdT-HJV"
      },
      "execution_count": null,
      "outputs": []
    },
    {
      "cell_type": "code",
      "source": [
        "evaluate_models(hybrid_model, \"Hybrid Model\", X_train_data, Y_train_data, X_test_data, Y_test_data)"
      ],
      "metadata": {
        "id": "wZYKIl4OmJJM"
      },
      "execution_count": null,
      "outputs": []
    },
    {
      "cell_type": "markdown",
      "source": [
        "###Attention Model(LSTM + Attention)"
      ],
      "metadata": {
        "id": "NyL0RNhKWW9C"
      }
    },
    {
      "cell_type": "code",
      "source": [
        "print(X_train_data.shape, X_test_data.shape, Y_train_data.shape, Y_test_data.shape)"
      ],
      "metadata": {
        "id": "WL8j4g06WZWy"
      },
      "execution_count": null,
      "outputs": []
    },
    {
      "cell_type": "code",
      "source": [
        "inputs = Input(shape=(X_train_data.shape[1], 1))\n",
        "print(inputs)\n",
        "x = LSTM(units=50, return_sequences=True)(inputs)\n",
        "x = LSTM(units=50, return_sequences=True)(x)\n",
        "attention = Attention()([x, x])  # Attention with query and key as x\n",
        "print(attention)\n",
        "outputs = Dense(1)(attention)\n",
        "print(outputs)\n",
        "\n",
        "attention_model = Model(inputs, outputs)\n",
        "attention_model"
      ],
      "metadata": {
        "id": "DP_1lJFvZwWC"
      },
      "execution_count": null,
      "outputs": []
    },
    {
      "cell_type": "code",
      "source": [
        "attention_model.compile(optimizer=\"adam\", loss=\"mean_squared_error\")"
      ],
      "metadata": {
        "id": "AhNdhjK3hs9t"
      },
      "execution_count": null,
      "outputs": []
    },
    {
      "cell_type": "code",
      "source": [
        "attention_model.summary()"
      ],
      "metadata": {
        "id": "b3bgsjhzhwCf"
      },
      "execution_count": null,
      "outputs": []
    },
    {
      "cell_type": "code",
      "source": [
        "attention_model.fit(X_train_data, Y_train_data, validation_data = (X_test_data, Y_test_data), epochs = 60, batch_size = 50, verbose = 1)"
      ],
      "metadata": {
        "id": "1CfSjMDth0wm"
      },
      "execution_count": null,
      "outputs": []
    },
    {
      "cell_type": "code",
      "source": [
        "evaluate_models(attention_model, \"Attention Model\", X_train_data, Y_train_data, X_test_data, Y_test_data)"
      ],
      "metadata": {
        "id": "wbOLlD5Mpp8G"
      },
      "execution_count": null,
      "outputs": []
    },
    {
      "cell_type": "markdown",
      "source": [
        "##Forecasting"
      ],
      "metadata": {
        "id": "e8UN69Z9SHo7"
      }
    },
    {
      "cell_type": "code",
      "source": [
        "for mdl in eval.keys():\n",
        "  print(\"-\"*25,mdl,\"-\"*25)\n",
        "  df = pd.DataFrame(eval[mdl])\n",
        "  print(df)"
      ],
      "metadata": {
        "id": "kwuadWkUX9Nd"
      },
      "execution_count": null,
      "outputs": []
    },
    {
      "cell_type": "code",
      "source": [
        "forecast_dates"
      ],
      "metadata": {
        "id": "1hEWdRrUR4Mh"
      },
      "execution_count": null,
      "outputs": []
    },
    {
      "cell_type": "code",
      "source": [
        "Y_forecast_prev_data = Y_test_data[-no_of_days_to_analyse:]\n",
        "Y_forecast_prev_data.shape"
      ],
      "metadata": {
        "id": "xDlmS2VJXYpY"
      },
      "execution_count": null,
      "outputs": []
    },
    {
      "cell_type": "code",
      "source": [
        "def forecast_dataset(model, name, data, column_size, forecast_dates):\n",
        "  y = []\n",
        "  data = data.reshape(1, data.shape[0], 1)\n",
        "  # print(model, data, column_size, forecast_dates)\n",
        "  for i in range(len(forecast_dates)):\n",
        "    new_value = model.predict(data[:, i:i + column_size, :])\n",
        "    data = np.append(data, new_value.reshape(1, 1, new_value.shape[1]), axis=1)\n",
        "    new_value = scaler.inverse_transform(new_value)\n",
        "    y.append(new_value)\n",
        "  return np.array(y)\n",
        "\n",
        "\n",
        "def forecast(model, name, Y_forecast_data):\n",
        "  Y_forecast_data.reshape(Y_forecast_data.shape[0])\n",
        "  date_filtered = data[data.index >= '2024-01-01']\n",
        "\n",
        "  plt.figure(figsize = (18,5))\n",
        "  plt.plot(forecast_dates, Y_forecast_data.reshape(Y_forecast_data.shape[0], 1), color = \"orange\", label = \"Actual\")\n",
        "  plt.plot(date_filtered.index, date_filtered[\"Close\"], color = \"yellow\", label = \"Predicted\")\n",
        "  plt.title(f\"Actual Data v/s Predicted Test data for {name}\")\n",
        "  plt.legend()\n",
        "  plt.show()\n",
        "  print()\n"
      ],
      "metadata": {
        "id": "Frauu79kXoZq"
      },
      "execution_count": null,
      "outputs": []
    },
    {
      "cell_type": "code",
      "source": [
        "Y_lstm_forecast_data = forecast_dataset(lstm_model, \"LSTM\", Y_forecast_prev_data, no_of_days_to_analyse, forecast_dates)\n",
        "\n",
        "Y_gru_forecast_data = forecast_dataset(gru_model, \"GRU\", Y_forecast_prev_data, no_of_days_to_analyse, forecast_dates)"
      ],
      "metadata": {
        "id": "nCEie2akDpsq"
      },
      "execution_count": null,
      "outputs": []
    },
    {
      "cell_type": "code",
      "source": [
        "forecast(lstm_model, \"LSTM(Long Short Term Memory)\", Y_lstm_forecast_data)\n",
        "\n",
        "forecast(gru_model, \"GRU(Gated Recurrent Unit)\", Y_gru_forecast_data)"
      ],
      "metadata": {
        "id": "hnTuRjezHErA"
      },
      "execution_count": null,
      "outputs": []
    },
    {
      "cell_type": "markdown",
      "source": [
        "#Hyperparameter Tuning"
      ],
      "metadata": {
        "id": "t5Si4mNgrFdt"
      }
    },
    {
      "cell_type": "code",
      "source": [
        "units = [20, 30, 40, 50, 60, 70, 80, 90]\n",
        "learning_rate = [0.001, 0.003, 0.005, 0.007, 0.009, 0.01]\n",
        "batch_size = [30, 50, 70, 90, 100]\n",
        "epochs = [60, 80, 100, 120]\n",
        "lstm_params_grid = {\n",
        "    'batch_size': batch_size,\n",
        "    'epochs': epochs\n",
        "}\n",
        "\n",
        "gru_params_grid = {\n",
        "    'batch_size': batch_size,\n",
        "    'epochs': epochs\n",
        "}"
      ],
      "metadata": {
        "id": "Vh1OBgB-rLp0"
      },
      "execution_count": null,
      "outputs": []
    },
    {
      "cell_type": "markdown",
      "source": [
        "#####LSTM"
      ],
      "metadata": {
        "id": "4v0WqBf6sc3i"
      }
    },
    {
      "cell_type": "code",
      "source": [
        "lstm_model_wrapped = KerasRegressor(model=lstm_model, metrics=['accuracy'], verbose=0)\n",
        "lstm_model_grid = GridSearchCV(estimator=lstm_model_wrapped, param_grid=lstm_params_grid, cv=3, n_jobs=-1, scoring=\"accuracy\")\n",
        "lstm_model_grid"
      ],
      "metadata": {
        "id": "V9fPOJhT2p_L"
      },
      "execution_count": null,
      "outputs": []
    },
    {
      "cell_type": "code",
      "source": [
        "lstm_model_grid.get_params().keys()"
      ],
      "metadata": {
        "id": "uZG7Bow_5ATR"
      },
      "execution_count": null,
      "outputs": []
    },
    {
      "cell_type": "code",
      "source": [
        "lstm_model_grid.fit(X_train_data, Y_train_data)\n",
        "evaluate_models(lstm_model_grid, \"LSTM(Long Short Term Memory) After Grid Search Tuning\", X_train_data, Y_train_data, X_test_data, Y_test_data)"
      ],
      "metadata": {
        "colab": {
          "base_uri": "https://localhost:8080/",
          "height": 304
        },
        "id": "sWdJmT0sDjAx",
        "outputId": "8afbd75e-8a76-44e3-837c-2e1c4fe0c4a3"
      },
      "execution_count": 120,
      "outputs": [
        {
          "output_type": "error",
          "ename": "KeyboardInterrupt",
          "evalue": "",
          "traceback": [
            "\u001b[0;31m---------------------------------------------------------------------------\u001b[0m",
            "\u001b[0;31mKeyboardInterrupt\u001b[0m                         Traceback (most recent call last)",
            "\u001b[0;32m<ipython-input-120-6c21b2c9990f>\u001b[0m in \u001b[0;36m<cell line: 1>\u001b[0;34m()\u001b[0m\n\u001b[0;32m----> 1\u001b[0;31m \u001b[0mlstm_model_grid\u001b[0m\u001b[0;34m.\u001b[0m\u001b[0mfit\u001b[0m\u001b[0;34m(\u001b[0m\u001b[0mX_train_data\u001b[0m\u001b[0;34m,\u001b[0m \u001b[0mY_train_data\u001b[0m\u001b[0;34m)\u001b[0m\u001b[0;34m\u001b[0m\u001b[0;34m\u001b[0m\u001b[0m\n\u001b[0m\u001b[1;32m      2\u001b[0m \u001b[0mevaluate_models\u001b[0m\u001b[0;34m(\u001b[0m\u001b[0mlstm_model_grid\u001b[0m\u001b[0;34m,\u001b[0m \u001b[0;34m\"LSTM(Long Short Term Memory) After Grid Search Tuning\"\u001b[0m\u001b[0;34m,\u001b[0m \u001b[0mX_train_data\u001b[0m\u001b[0;34m,\u001b[0m \u001b[0mY_train_data\u001b[0m\u001b[0;34m,\u001b[0m \u001b[0mX_test_data\u001b[0m\u001b[0;34m,\u001b[0m \u001b[0mY_test_data\u001b[0m\u001b[0;34m)\u001b[0m\u001b[0;34m\u001b[0m\u001b[0;34m\u001b[0m\u001b[0m\n",
            "\u001b[0;32m/usr/local/lib/python3.10/dist-packages/sklearn/base.py\u001b[0m in \u001b[0;36mwrapper\u001b[0;34m(estimator, *args, **kwargs)\u001b[0m\n\u001b[1;32m   1471\u001b[0m                 )\n\u001b[1;32m   1472\u001b[0m             ):\n\u001b[0;32m-> 1473\u001b[0;31m                 \u001b[0;32mreturn\u001b[0m \u001b[0mfit_method\u001b[0m\u001b[0;34m(\u001b[0m\u001b[0mestimator\u001b[0m\u001b[0;34m,\u001b[0m \u001b[0;34m*\u001b[0m\u001b[0margs\u001b[0m\u001b[0;34m,\u001b[0m \u001b[0;34m**\u001b[0m\u001b[0mkwargs\u001b[0m\u001b[0;34m)\u001b[0m\u001b[0;34m\u001b[0m\u001b[0;34m\u001b[0m\u001b[0m\n\u001b[0m\u001b[1;32m   1474\u001b[0m \u001b[0;34m\u001b[0m\u001b[0m\n\u001b[1;32m   1475\u001b[0m         \u001b[0;32mreturn\u001b[0m \u001b[0mwrapper\u001b[0m\u001b[0;34m\u001b[0m\u001b[0;34m\u001b[0m\u001b[0m\n",
            "\u001b[0;32m/usr/local/lib/python3.10/dist-packages/sklearn/model_selection/_search.py\u001b[0m in \u001b[0;36mfit\u001b[0;34m(self, X, y, **params)\u001b[0m\n\u001b[1;32m   1017\u001b[0m                 \u001b[0;32mreturn\u001b[0m \u001b[0mresults\u001b[0m\u001b[0;34m\u001b[0m\u001b[0;34m\u001b[0m\u001b[0m\n\u001b[1;32m   1018\u001b[0m \u001b[0;34m\u001b[0m\u001b[0m\n\u001b[0;32m-> 1019\u001b[0;31m             \u001b[0mself\u001b[0m\u001b[0;34m.\u001b[0m\u001b[0m_run_search\u001b[0m\u001b[0;34m(\u001b[0m\u001b[0mevaluate_candidates\u001b[0m\u001b[0;34m)\u001b[0m\u001b[0;34m\u001b[0m\u001b[0;34m\u001b[0m\u001b[0m\n\u001b[0m\u001b[1;32m   1020\u001b[0m \u001b[0;34m\u001b[0m\u001b[0m\n\u001b[1;32m   1021\u001b[0m             \u001b[0;31m# multimetric is determined here because in the case of a callable\u001b[0m\u001b[0;34m\u001b[0m\u001b[0;34m\u001b[0m\u001b[0m\n",
            "\u001b[0;32m/usr/local/lib/python3.10/dist-packages/sklearn/model_selection/_search.py\u001b[0m in \u001b[0;36m_run_search\u001b[0;34m(self, evaluate_candidates)\u001b[0m\n\u001b[1;32m   1571\u001b[0m     \u001b[0;32mdef\u001b[0m \u001b[0m_run_search\u001b[0m\u001b[0;34m(\u001b[0m\u001b[0mself\u001b[0m\u001b[0;34m,\u001b[0m \u001b[0mevaluate_candidates\u001b[0m\u001b[0;34m)\u001b[0m\u001b[0;34m:\u001b[0m\u001b[0;34m\u001b[0m\u001b[0;34m\u001b[0m\u001b[0m\n\u001b[1;32m   1572\u001b[0m         \u001b[0;34m\"\"\"Search all candidates in param_grid\"\"\"\u001b[0m\u001b[0;34m\u001b[0m\u001b[0;34m\u001b[0m\u001b[0m\n\u001b[0;32m-> 1573\u001b[0;31m         \u001b[0mevaluate_candidates\u001b[0m\u001b[0;34m(\u001b[0m\u001b[0mParameterGrid\u001b[0m\u001b[0;34m(\u001b[0m\u001b[0mself\u001b[0m\u001b[0;34m.\u001b[0m\u001b[0mparam_grid\u001b[0m\u001b[0;34m)\u001b[0m\u001b[0;34m)\u001b[0m\u001b[0;34m\u001b[0m\u001b[0;34m\u001b[0m\u001b[0m\n\u001b[0m\u001b[1;32m   1574\u001b[0m \u001b[0;34m\u001b[0m\u001b[0m\n\u001b[1;32m   1575\u001b[0m \u001b[0;34m\u001b[0m\u001b[0m\n",
            "\u001b[0;32m/usr/local/lib/python3.10/dist-packages/sklearn/model_selection/_search.py\u001b[0m in \u001b[0;36mevaluate_candidates\u001b[0;34m(candidate_params, cv, more_results)\u001b[0m\n\u001b[1;32m    963\u001b[0m                     )\n\u001b[1;32m    964\u001b[0m \u001b[0;34m\u001b[0m\u001b[0m\n\u001b[0;32m--> 965\u001b[0;31m                 out = parallel(\n\u001b[0m\u001b[1;32m    966\u001b[0m                     delayed(_fit_and_score)(\n\u001b[1;32m    967\u001b[0m                         \u001b[0mclone\u001b[0m\u001b[0;34m(\u001b[0m\u001b[0mbase_estimator\u001b[0m\u001b[0;34m)\u001b[0m\u001b[0;34m,\u001b[0m\u001b[0;34m\u001b[0m\u001b[0;34m\u001b[0m\u001b[0m\n",
            "\u001b[0;32m/usr/local/lib/python3.10/dist-packages/sklearn/utils/parallel.py\u001b[0m in \u001b[0;36m__call__\u001b[0;34m(self, iterable)\u001b[0m\n\u001b[1;32m     72\u001b[0m             \u001b[0;32mfor\u001b[0m \u001b[0mdelayed_func\u001b[0m\u001b[0;34m,\u001b[0m \u001b[0margs\u001b[0m\u001b[0;34m,\u001b[0m \u001b[0mkwargs\u001b[0m \u001b[0;32min\u001b[0m \u001b[0miterable\u001b[0m\u001b[0;34m\u001b[0m\u001b[0;34m\u001b[0m\u001b[0m\n\u001b[1;32m     73\u001b[0m         )\n\u001b[0;32m---> 74\u001b[0;31m         \u001b[0;32mreturn\u001b[0m \u001b[0msuper\u001b[0m\u001b[0;34m(\u001b[0m\u001b[0;34m)\u001b[0m\u001b[0;34m.\u001b[0m\u001b[0m__call__\u001b[0m\u001b[0;34m(\u001b[0m\u001b[0miterable_with_config\u001b[0m\u001b[0;34m)\u001b[0m\u001b[0;34m\u001b[0m\u001b[0;34m\u001b[0m\u001b[0m\n\u001b[0m\u001b[1;32m     75\u001b[0m \u001b[0;34m\u001b[0m\u001b[0m\n\u001b[1;32m     76\u001b[0m \u001b[0;34m\u001b[0m\u001b[0m\n",
            "\u001b[0;32m/usr/local/lib/python3.10/dist-packages/joblib/parallel.py\u001b[0m in \u001b[0;36m__call__\u001b[0;34m(self, iterable)\u001b[0m\n\u001b[1;32m   2005\u001b[0m         \u001b[0mnext\u001b[0m\u001b[0;34m(\u001b[0m\u001b[0moutput\u001b[0m\u001b[0;34m)\u001b[0m\u001b[0;34m\u001b[0m\u001b[0;34m\u001b[0m\u001b[0m\n\u001b[1;32m   2006\u001b[0m \u001b[0;34m\u001b[0m\u001b[0m\n\u001b[0;32m-> 2007\u001b[0;31m         \u001b[0;32mreturn\u001b[0m \u001b[0moutput\u001b[0m \u001b[0;32mif\u001b[0m \u001b[0mself\u001b[0m\u001b[0;34m.\u001b[0m\u001b[0mreturn_generator\u001b[0m \u001b[0;32melse\u001b[0m \u001b[0mlist\u001b[0m\u001b[0;34m(\u001b[0m\u001b[0moutput\u001b[0m\u001b[0;34m)\u001b[0m\u001b[0;34m\u001b[0m\u001b[0;34m\u001b[0m\u001b[0m\n\u001b[0m\u001b[1;32m   2008\u001b[0m \u001b[0;34m\u001b[0m\u001b[0m\n\u001b[1;32m   2009\u001b[0m     \u001b[0;32mdef\u001b[0m \u001b[0m__repr__\u001b[0m\u001b[0;34m(\u001b[0m\u001b[0mself\u001b[0m\u001b[0;34m)\u001b[0m\u001b[0;34m:\u001b[0m\u001b[0;34m\u001b[0m\u001b[0;34m\u001b[0m\u001b[0m\n",
            "\u001b[0;32m/usr/local/lib/python3.10/dist-packages/joblib/parallel.py\u001b[0m in \u001b[0;36m_get_outputs\u001b[0;34m(self, iterator, pre_dispatch)\u001b[0m\n\u001b[1;32m   1648\u001b[0m \u001b[0;34m\u001b[0m\u001b[0m\n\u001b[1;32m   1649\u001b[0m             \u001b[0;32mwith\u001b[0m \u001b[0mself\u001b[0m\u001b[0;34m.\u001b[0m\u001b[0m_backend\u001b[0m\u001b[0;34m.\u001b[0m\u001b[0mretrieval_context\u001b[0m\u001b[0;34m(\u001b[0m\u001b[0;34m)\u001b[0m\u001b[0;34m:\u001b[0m\u001b[0;34m\u001b[0m\u001b[0;34m\u001b[0m\u001b[0m\n\u001b[0;32m-> 1650\u001b[0;31m                 \u001b[0;32myield\u001b[0m \u001b[0;32mfrom\u001b[0m \u001b[0mself\u001b[0m\u001b[0;34m.\u001b[0m\u001b[0m_retrieve\u001b[0m\u001b[0;34m(\u001b[0m\u001b[0;34m)\u001b[0m\u001b[0;34m\u001b[0m\u001b[0;34m\u001b[0m\u001b[0m\n\u001b[0m\u001b[1;32m   1651\u001b[0m \u001b[0;34m\u001b[0m\u001b[0m\n\u001b[1;32m   1652\u001b[0m         \u001b[0;32mexcept\u001b[0m \u001b[0mGeneratorExit\u001b[0m\u001b[0;34m:\u001b[0m\u001b[0;34m\u001b[0m\u001b[0;34m\u001b[0m\u001b[0m\n",
            "\u001b[0;32m/usr/local/lib/python3.10/dist-packages/joblib/parallel.py\u001b[0m in \u001b[0;36m_retrieve\u001b[0;34m(self)\u001b[0m\n\u001b[1;32m   1760\u001b[0m                 (self._jobs[0].get_status(\n\u001b[1;32m   1761\u001b[0m                     timeout=self.timeout) == TASK_PENDING)):\n\u001b[0;32m-> 1762\u001b[0;31m                 \u001b[0mtime\u001b[0m\u001b[0;34m.\u001b[0m\u001b[0msleep\u001b[0m\u001b[0;34m(\u001b[0m\u001b[0;36m0.01\u001b[0m\u001b[0;34m)\u001b[0m\u001b[0;34m\u001b[0m\u001b[0;34m\u001b[0m\u001b[0m\n\u001b[0m\u001b[1;32m   1763\u001b[0m                 \u001b[0;32mcontinue\u001b[0m\u001b[0;34m\u001b[0m\u001b[0;34m\u001b[0m\u001b[0m\n\u001b[1;32m   1764\u001b[0m \u001b[0;34m\u001b[0m\u001b[0m\n",
            "\u001b[0;31mKeyboardInterrupt\u001b[0m: "
          ]
        }
      ]
    },
    {
      "cell_type": "code",
      "source": [
        "lstm_model_wrapped = KerasRegressor(model=lstm_model, metrics=['accuracy'], verbose=0)\n",
        "lstm_randomized_search = RandomizedSearchCV(estimator=lstm_model_wrapped, param_distributions=lstm_params_grid, cv=3, n_iter=10, n_jobs=-1)\n",
        "lstm_randomized_search"
      ],
      "metadata": {
        "id": "tpEGl4ym3LZT"
      },
      "execution_count": null,
      "outputs": []
    },
    {
      "cell_type": "code",
      "source": [
        "lstm_randomized_search.get_params().keys()"
      ],
      "metadata": {
        "id": "ZnIDDVu6WhTM"
      },
      "execution_count": null,
      "outputs": []
    },
    {
      "cell_type": "code",
      "source": [
        "lstm_randomized_search.estimator"
      ],
      "metadata": {
        "id": "SU_5FHCtrdjQ"
      },
      "execution_count": null,
      "outputs": []
    },
    {
      "cell_type": "code",
      "source": [
        "lstm_randomized_search.fit(X_train_data, Y_train_data)\n",
        "evaluate_models(lstm_randomized_search, \"LSTM(Long Short Term Memory) After Randomized Search Turing\", X_train_data, Y_train_data, X_test_data, Y_test_data)"
      ],
      "metadata": {
        "id": "UihnB6CYWwqj"
      },
      "execution_count": null,
      "outputs": []
    },
    {
      "cell_type": "markdown",
      "source": [
        "#####GRU"
      ],
      "metadata": {
        "id": "ZPLsT4wUslEv"
      }
    },
    {
      "cell_type": "code",
      "source": [
        "gru_model_wrapped = KerasRegressor(model=gru_model, metrics=['accuracy'], verbose=0)\n",
        "gru_model_grid = GridSearchCV(estimator=gru_model_wrapped, param_grid=gru_params_grid, cv=3, n_jobs=-1, scoring=\"accuracy\")\n",
        "gru_model_grid"
      ],
      "metadata": {
        "id": "4t7DqEb-skHy"
      },
      "execution_count": null,
      "outputs": []
    },
    {
      "cell_type": "code",
      "source": [
        "gru_model_grid.get_params().keys()"
      ],
      "metadata": {
        "id": "de8fuJhispVN"
      },
      "execution_count": null,
      "outputs": []
    },
    {
      "cell_type": "code",
      "source": [
        "gru_model_grid.fit(X_train_data, Y_train_data)\n",
        "evaluate_models(gru_model_grid, \"GRU(Gated Recurrent Unit) After Grid Search Tuning\", X_train_data, Y_train_data, X_test_data, Y_test_data)"
      ],
      "metadata": {
        "id": "hmcXcAZms8dF"
      },
      "execution_count": null,
      "outputs": []
    },
    {
      "cell_type": "code",
      "source": [
        "gru_model_wrapped = KerasRegressor(model=gru_model, metrics=['accuracy'], verbose=0)\n",
        "gru_randomized_search = RandomizedSearchCV(estimator=gru_model_wrapped, param_distributions=lstm_params_grid, cv=3, n_iter=10, n_jobs=-1)\n",
        "gru_randomized_search"
      ],
      "metadata": {
        "id": "B-aM6KOwtGke"
      },
      "execution_count": null,
      "outputs": []
    },
    {
      "cell_type": "code",
      "source": [
        "gru_randomized_search.get_params().keys()"
      ],
      "metadata": {
        "id": "YawY1GGgtYMK"
      },
      "execution_count": null,
      "outputs": []
    },
    {
      "cell_type": "code",
      "source": [
        "gru_randomized_search.fit(X_train_data, Y_train_data)\n",
        "evaluate_models(gru_randomized_search, \"GRU(Gated Recurrent Unit) After Randomized Search Turing\", X_train_data, Y_train_data, X_test_data, Y_test_data)"
      ],
      "metadata": {
        "id": "-69ED5cEtdML"
      },
      "execution_count": null,
      "outputs": []
    }
  ]
}